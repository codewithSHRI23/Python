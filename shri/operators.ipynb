{
 "cells": [
  {
   "cell_type": "code",
   "execution_count": 1,
   "id": "16130a7f",
   "metadata": {},
   "outputs": [
    {
     "name": "stdout",
     "output_type": "stream",
     "text": [
      "hello\n"
     ]
    }
   ],
   "source": [
    "print(\"hello\")"
   ]
  },
  {
   "cell_type": "code",
   "execution_count": 3,
   "id": "2ed7190f",
   "metadata": {},
   "outputs": [
    {
     "name": "stdout",
     "output_type": "stream",
     "text": [
      "254\n",
      "120\n",
      "12529\n",
      "2.791044776119403\n",
      "2\n",
      "53\n",
      "6539203\n"
     ]
    }
   ],
   "source": [
    "# Arithmetic Operators (Math Tools)\n",
    "x = 187\n",
    "y = 67\n",
    "print(x+y)\n",
    "print(x-y)\n",
    "print(x*y)\n",
    "print(x/y)\n",
    "print(x//y)\n",
    "print(x%y)\n",
    "print(x**3)"
   ]
  },
  {
   "cell_type": "code",
   "execution_count": 5,
   "id": "c21ee8bc",
   "metadata": {},
   "outputs": [
    {
     "name": "stdout",
     "output_type": "stream",
     "text": [
      "False\n",
      "True\n",
      "False\n",
      "True\n",
      "False\n",
      "True\n"
     ]
    }
   ],
   "source": [
    "# Comparison Operators (Checking Things)\n",
    "\n",
    "print(23>45)\n",
    "print(23<45)\n",
    "print(23 == 45)\n",
    "print(23 != 45)\n",
    "print(23 >= 45)\n",
    "print(23 <= 44)"
   ]
  },
  {
   "cell_type": "code",
   "execution_count": 6,
   "id": "81e60aae",
   "metadata": {},
   "outputs": [
    {
     "name": "stdout",
     "output_type": "stream",
     "text": [
      "False\n",
      "True\n",
      "False\n"
     ]
    }
   ],
   "source": [
    "# Logical Operators (Combining Checks)\n",
    "\n",
    "print(23 == 45 and 56 < 67)\n",
    "\n",
    "print(23 == 45 or 56 < 67)\n",
    "\n",
    "print(not 45 == 45)"
   ]
  },
  {
   "cell_type": "code",
   "execution_count": 7,
   "id": "929f9499",
   "metadata": {},
   "outputs": [
    {
     "name": "stdout",
     "output_type": "stream",
     "text": [
      "10\n",
      "20\n",
      "10\n",
      "100\n",
      "10.0\n"
     ]
    }
   ],
   "source": [
    "# Assignment Operators (Saving Values)\n",
    "\n",
    "x = 10\n",
    "print(x)\n",
    "#x = x + 10\n",
    "x +=10\n",
    "print(x)\n",
    "x -=10\n",
    "print(x)\n",
    "x *=10\n",
    "print(x)\n",
    "x /=10\n",
    "print(x)"
   ]
  },
  {
   "cell_type": "code",
   "execution_count": 8,
   "id": "d0c4343d",
   "metadata": {},
   "outputs": [
    {
     "name": "stdout",
     "output_type": "stream",
     "text": [
      "True\n",
      "False\n"
     ]
    }
   ],
   "source": [
    "# Membership Operators (Checking Lists or Words)\n",
    "\n",
    "data = \"codeswithpankaj\"\n",
    "print('w' in data)\n",
    "\n",
    "data = \"codeswithpankaj\"\n",
    "print('w' not in data)"
   ]
  },
  {
   "cell_type": "code",
   "execution_count": null,
   "id": "90615bcd",
   "metadata": {},
   "outputs": [],
   "source": []
  }
 ],
 "metadata": {
  "kernelspec": {
   "display_name": "Python 3",
   "language": "python",
   "name": "python3"
  },
  "language_info": {
   "codemirror_mode": {
    "name": "ipython",
    "version": 3
   },
   "file_extension": ".py",
   "mimetype": "text/x-python",
   "name": "python",
   "nbconvert_exporter": "python",
   "pygments_lexer": "ipython3",
   "version": "3.12.10"
  }
 },
 "nbformat": 4,
 "nbformat_minor": 5
}
