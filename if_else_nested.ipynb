{
 "cells": [
  {
   "cell_type": "code",
   "execution_count": 2,
   "id": "f50fbf15",
   "metadata": {},
   "outputs": [
    {
     "name": "stdout",
     "output_type": "stream",
     "text": [
      "c is greatest\n"
     ]
    }
   ],
   "source": [
    "a=20\n",
    "b=35\n",
    "c=85\n",
    "d=75\n",
    "\n",
    "if a > b and a > c and a > d:\n",
    "    print(\"a is greatest\")\n",
    "elif b > a and b > c and  b > d:\n",
    "    print(\"b is greatest\")\n",
    "elif c > a and c > b and c > d:\n",
    "    print(\"c is greatest\")\n",
    "else:\n",
    "    print(\"d is greatest\")"
   ]
  },
  {
   "cell_type": "code",
   "execution_count": 5,
   "id": "9deba486",
   "metadata": {},
   "outputs": [
    {
     "name": "stdout",
     "output_type": "stream",
     "text": [
      "your grade is A\n"
     ]
    }
   ],
   "source": [
    "a=int(input(\"enter no.\"))\n",
    "\n",
    "if a <= 30:\n",
    "    print(\"your grade is FAIL\")\n",
    "elif a >=31 and a <=50:\n",
    "     print(\"your grade is C \")\n",
    "elif a >=51 and a <=79:\n",
    "      print(\"your grade is B\")\n",
    "else :\n",
    "      print(\"your grade is A\") \n",
    "    "
   ]
  },
  {
   "cell_type": "code",
   "execution_count": null,
   "id": "eb6e215a",
   "metadata": {},
   "outputs": [],
   "source": []
  }
 ],
 "metadata": {
  "kernelspec": {
   "display_name": "Python 3",
   "language": "python",
   "name": "python3"
  },
  "language_info": {
   "codemirror_mode": {
    "name": "ipython",
    "version": 3
   },
   "file_extension": ".py",
   "mimetype": "text/x-python",
   "name": "python",
   "nbconvert_exporter": "python",
   "pygments_lexer": "ipython3",
   "version": "3.12.10"
  }
 },
 "nbformat": 4,
 "nbformat_minor": 5
}
